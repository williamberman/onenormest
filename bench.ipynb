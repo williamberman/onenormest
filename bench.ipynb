{
 "cells": [
  {
   "cell_type": "code",
   "execution_count": 7,
   "id": "38e5d101",
   "metadata": {},
   "outputs": [],
   "source": [
    "import jax\n",
    "import jax.numpy as jnp\n",
    "from onenormest import onenormest, _onenormest\n",
    "import scipy\n",
    "import numpy as np"
   ]
  },
  {
   "cell_type": "code",
   "execution_count": 2,
   "id": "7d019a7a",
   "metadata": {},
   "outputs": [
    {
     "data": {
      "text/plain": [
       "[GpuDevice(id=0, process_index=0)]"
      ]
     },
     "execution_count": 2,
     "metadata": {},
     "output_type": "execute_result"
    }
   ],
   "source": [
    "jax.devices()"
   ]
  },
  {
   "cell_type": "code",
   "execution_count": 3,
   "id": "f7a46643",
   "metadata": {},
   "outputs": [],
   "source": [
    "key = jax.random.PRNGKey(1)"
   ]
  },
  {
   "cell_type": "code",
   "execution_count": 9,
   "id": "5f11e95e",
   "metadata": {},
   "outputs": [
    {
     "name": "stdout",
     "output_type": "stream",
     "text": [
      "2.35 s ± 0 ns per loop (mean ± std. dev. of 1 run, 1 loop each)\n",
      "41.5 ms ± 3.37 ms per loop (mean ± std. dev. of 7 runs, 10 loops each)\n",
      "The slowest run took 99.30 times longer than the fastest. This could mean that an intermediate result is being cached.\n",
      "1.87 s ± 2.39 s per loop (mean ± std. dev. of 7 runs, 10 loops each)\n"
     ]
    }
   ],
   "source": [
    "t = 16\n",
    "n = 2048\n",
    "key, subkey = jax.random.split(key)\n",
    "A = jax.random.normal(subkey, (n, n))\n",
    "itmax = 8\n",
    "\n",
    "def helper():\n",
    "    est, *_ = _onenormest(key, A, t, itmax)\n",
    "    est.block_until_ready()    \n",
    "    \n",
    "%timeit -n 1 -r 1 helper()\n",
    "%timeit helper()\n",
    "%timeit scipy.sparse.linalg.onenormest(np.array(A))"
   ]
  }
 ],
 "metadata": {
  "kernelspec": {
   "display_name": "Python 3 (ipykernel)",
   "language": "python",
   "name": "python3"
  },
  "language_info": {
   "codemirror_mode": {
    "name": "ipython",
    "version": 3
   },
   "file_extension": ".py",
   "mimetype": "text/x-python",
   "name": "python",
   "nbconvert_exporter": "python",
   "pygments_lexer": "ipython3",
   "version": "3.9.12"
  }
 },
 "nbformat": 4,
 "nbformat_minor": 5
}
